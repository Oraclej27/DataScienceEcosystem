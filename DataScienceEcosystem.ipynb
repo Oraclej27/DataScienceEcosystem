{
 "cells": [
  {
   "cell_type": "markdown",
   "id": "90544112-d87c-4f79-bbbb-1faca9b38c9a",
   "metadata": {},
   "source": [
    "# Data Science Ecosystem"
   ]
  },
  {
   "cell_type": "markdown",
   "id": "83a1cd00-770a-4d20-9d33-4692e6c2f226",
   "metadata": {},
   "source": [
    "In this notebook, Data Science Tools and Ecosystem are summarized."
   ]
  },
  {
   "cell_type": "markdown",
   "id": "11691d64-49fe-4820-96d2-332f46ccd1d5",
   "metadata": {},
   "source": [
    "**Objectives:**\n",
    "- List popular languages for Data Science\n",
    "- Identify commonly used Data Science libraries\n",
    "- Summarize open-source Data Science tools\n",
    "- Demonstrate basic arithmetic operations in Python\n",
    "- Convert units (minutes to hours) programmatically"
   ]
  },
  {
   "cell_type": "markdown",
   "id": "48c03c3d-6dc2-4e66-abcd-b758b84a5527",
   "metadata": {},
   "source": [
    "Some of the popular languages that Data Scientists use are:\n",
    "\n",
    "1. Python\n",
    "2. R\n",
    "3. SQL\n",
    "4. Julia (optional)"
   ]
  },
  {
   "cell_type": "markdown",
   "id": "11ebe721-6ffa-4d4d-99e6-38caa36f0cbb",
   "metadata": {},
   "source": [
    "Some of the commonly used libraries used by Data Scientists include:\n",
    "\n",
    "- Pandas\n",
    "- NumPy\n",
    "- Matplotlib\n",
    "- Scikit-learn\n",
    "- TensorFlow/PyTorch (optional)"
   ]
  },
  {
   "cell_type": "markdown",
   "id": "2599ff9c-ea51-4125-ad69-7b883023720a",
   "metadata": {},
   "source": [
    "| Data Science Tools |\n",
    "|--------------------|\n",
    "| Jupyter Notebook   |\n",
    "| RStudio            |\n",
    "| VS Code (with Python extension) |"
   ]
  },
  {
   "cell_type": "markdown",
   "id": "fb0bf493-d09e-47ad-b607-4c044a4aef40",
   "metadata": {},
   "source": [
    "### Below are a few examples of evaluating arithmetic expressions in Python"
   ]
  },
  {
   "cell_type": "code",
   "execution_count": 1,
   "id": "38325759-e48c-4284-a15c-f28c55e825ce",
   "metadata": {},
   "outputs": [
    {
     "data": {
      "text/plain": [
       "17"
      ]
     },
     "execution_count": 1,
     "metadata": {},
     "output_type": "execute_result"
    }
   ],
   "source": [
    "# This is a simple arithmetic expression to multiply then add integers\n",
    "(3 * 4) + 5"
   ]
  },
  {
   "cell_type": "code",
   "execution_count": 2,
   "id": "3a216891-dc91-411d-8e55-f56b144c9da0",
   "metadata": {},
   "outputs": [
    {
     "data": {
      "text/plain": [
       "3.33"
      ]
     },
     "execution_count": 2,
     "metadata": {},
     "output_type": "execute_result"
    }
   ],
   "source": [
    "# This will convert 200 minutes to hours by dividing by 60\n",
    "round(200 / 60, 2)  # Rounds to 2 decimal places"
   ]
  },
  {
   "cell_type": "markdown",
   "id": "54b74c67-ce55-4a7c-9d64-de9e513a6fac",
   "metadata": {},
   "source": [
    "## Author  \n",
    "Joe Contreras"
   ]
  },
  {
   "cell_type": "code",
   "execution_count": null,
   "id": "411462df-e240-463c-bc3f-132bb7a967c6",
   "metadata": {},
   "outputs": [],
   "source": []
  }
 ],
 "metadata": {
  "kernelspec": {
   "display_name": "Python 3 (ipykernel)",
   "language": "python",
   "name": "python3"
  },
  "language_info": {
   "codemirror_mode": {
    "name": "ipython",
    "version": 3
   },
   "file_extension": ".py",
   "mimetype": "text/x-python",
   "name": "python",
   "nbconvert_exporter": "python",
   "pygments_lexer": "ipython3",
   "version": "3.12.8"
  }
 },
 "nbformat": 4,
 "nbformat_minor": 5
}
